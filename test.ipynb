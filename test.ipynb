{
 "cells": [
  {
   "cell_type": "code",
   "execution_count": 4,
   "metadata": {},
   "outputs": [
    {
     "name": "stdout",
     "output_type": "stream",
     "text": [
      " 오늘 배운 내용 요약\n",
      "GitHub 사용법 - 가입하기, repository 만들기, 파일 만들기, Codespaces 사용\n",
      "Git 사용법 - add, commit, push, pull\n",
      "코딩환경 만들기 - python 설치, VS code 설치 \n"
     ]
    }
   ],
   "source": [
    "today_summary = ''' 오늘 배운 내용 요약\n",
    "GitHub 사용법 - 가입하기, repository 만들기, 파일 만들기, Codespaces 사용\n",
    "Git 사용법 - add, commit, push, pull\n",
    "코딩환경 만들기 - python 설치, VS code 설치 '''\n",
    "\n",
    "print(today_summary)"
   ]
  },
  {
   "cell_type": "code",
   "execution_count": null,
   "metadata": {},
   "outputs": [],
   "source": []
  }
 ],
 "metadata": {
  "kernelspec": {
   "display_name": "base",
   "language": "python",
   "name": "python3"
  },
  "language_info": {
   "codemirror_mode": {
    "name": "ipython",
    "version": 3
   },
   "file_extension": ".py",
   "mimetype": "text/x-python",
   "name": "python",
   "nbconvert_exporter": "python",
   "pygments_lexer": "ipython3",
   "version": "3.12.7"
  }
 },
 "nbformat": 4,
 "nbformat_minor": 2
}
